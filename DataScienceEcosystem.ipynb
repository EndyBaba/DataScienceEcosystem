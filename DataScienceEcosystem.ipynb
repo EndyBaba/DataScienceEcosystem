{
 "cells": [
  {
   "cell_type": "markdown",
   "id": "33d2963e-13fc-46e7-9ec9-2d51dedc4702",
   "metadata": {},
   "source": [
    "# Data Science Tools and Ecosystem"
   ]
  },
  {
   "cell_type": "markdown",
   "id": "ef436913-6949-4fad-9035-43e016ef134e",
   "metadata": {},
   "source": [
    "In this notebook, Data Science Tools and Ecosystem are summarized."
   ]
  },
  {
   "cell_type": "markdown",
   "id": "a81e8815-c178-4c8a-b035-f9058a1cc3f4",
   "metadata": {},
   "source": [
    "**Objectives:**\n",
    "* List popular languages for Data Science\n",
    "* List commonly used libraries in Data Science\n",
    "* List some popular tools used in Data Science\n",
    "* Examples of some arithmetic expressions "
   ]
  },
  {
   "cell_type": "markdown",
   "id": "573d334a-27b8-4a89-ad35-0eb40b3f7bc0",
   "metadata": {},
   "source": [
    "Some of the popular languages that Data Scientists use are:\n",
    "1. Python\n",
    "2. R\n",
    "3. SQL\n",
    "4. Julia\n",
    "5. SAS"
   ]
  },
  {
   "cell_type": "markdown",
   "id": "7de28ebb-3476-4fd0-a3ff-db8c85bb6f79",
   "metadata": {},
   "source": [
    "Some of the commonly used libraries used by Data Scientists include:\n",
    "1. Pandas\n",
    "2. NumPy\n",
    "3. Matplotlib\n",
    "4. tidyr\n",
    "5. ggplot2"
   ]
  },
  {
   "cell_type": "markdown",
   "id": "fb774287-c6b8-445e-b092-8f7464fb2de1",
   "metadata": {},
   "source": [
    "| Data Science Tools |\n",
    "|--------------------|\n",
    "| Jupyter Notebook |\n",
    "| RStudio |\n",
    "| VS Code |"
   ]
  },
  {
   "cell_type": "markdown",
   "id": "52e51909-ab73-4539-b72c-5639c2e1a4c3",
   "metadata": {},
   "source": [
    "### Below are a few examples of evaluating arithmetic expressions in Python"
   ]
  },
  {
   "cell_type": "code",
   "execution_count": 5,
   "id": "774c55fd-7246-4779-9bc4-a90d3c924cb6",
   "metadata": {},
   "outputs": [
    {
     "data": {
      "text/plain": [
       "17"
      ]
     },
     "execution_count": 5,
     "metadata": {},
     "output_type": "execute_result"
    }
   ],
   "source": [
    "# This a simple arithmetic expression to multiply then add integers \n",
    "(3*4)+5"
   ]
  },
  {
   "cell_type": "code",
   "execution_count": 6,
   "id": "29111de7-6bea-4f8c-a112-ab826ab43c8c",
   "metadata": {},
   "outputs": [
    {
     "data": {
      "text/plain": [
       "3.3333333333333335"
      ]
     },
     "execution_count": 6,
     "metadata": {},
     "output_type": "execute_result"
    }
   ],
   "source": [
    "# This will convert 200 minutes to hours by dividing by 60\n",
    "200/60"
   ]
  },
  {
   "cell_type": "markdown",
   "id": "32efac5f-42b2-45a5-bbab-4f6b8616cd7b",
   "metadata": {},
   "source": [
    "## Author\n",
    "Ndubuisi Opara"
   ]
  },
  {
   "cell_type": "code",
   "execution_count": null,
   "id": "f4609d24-83ee-42af-86a0-05cf762fa97b",
   "metadata": {},
   "outputs": [],
   "source": []
  }
 ],
 "metadata": {
  "kernelspec": {
   "display_name": "Python 3 (ipykernel)",
   "language": "python",
   "name": "python3"
  },
  "language_info": {
   "codemirror_mode": {
    "name": "ipython",
    "version": 3
   },
   "file_extension": ".py",
   "mimetype": "text/x-python",
   "name": "python",
   "nbconvert_exporter": "python",
   "pygments_lexer": "ipython3",
   "version": "3.9.19"
  }
 },
 "nbformat": 4,
 "nbformat_minor": 5
}
